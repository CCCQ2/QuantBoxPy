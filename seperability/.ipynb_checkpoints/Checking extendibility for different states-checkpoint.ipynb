{
 "cells": [
  {
   "cell_type": "code",
   "execution_count": 1,
   "metadata": {
    "collapsed": true
   },
   "outputs": [],
   "source": [
    "from extendibility import extendibility\n",
    "import cvxopt as cvx"
   ]
  },
  {
   "cell_type": "markdown",
   "metadata": {},
   "source": [
    "# Maximally Entangled State\n",
    "\\begin{equation}\n",
    "\\rho =\\frac{1}{2} \\left(\n",
    "\\begin{matrix}\n",
    "         1 & 0 & 0 & 1 \\\\\n",
    "         0 & 0 & 0 & 0 \\\\\n",
    "         0 & 0 & 0 & 0 \\\\\n",
    "         1 & 0 & 0 & 1\n",
    "\\end{matrix}\n",
    "\\right)\n",
    "\\end{equation}"
   ]
  },
  {
   "cell_type": "code",
   "execution_count": 2,
   "metadata": {
    "collapsed": false,
    "scrolled": true
   },
   "outputs": [
    {
     "name": "stdout",
     "output_type": "stream",
     "text": [
      "\n",
      "Checking for 2 extendibility...\n",
      "---------------------\n",
      "optimization problem  (SDP):\n",
      "36 variables, 33 affine constraints, 36 vars in 1 SD cones\n",
      "\n",
      "σ_AB \t: (8, 8), hermitian\n",
      "\n",
      "\tfind vars\n",
      "such that\n",
      "  σ_AB ≽ |0|\n",
      "  trace( σ_AB ) = 1.0\n",
      "  i(σ_AB) = ρ for all i in 1...2\n",
      "---------------------\n",
      "*** Making the problem real...  ***\n",
      "*** OK, solve the real problem and transform the solution as in the original problem...  ***\n",
      "*** Dualizing the problem...  ***\n",
      "build mosek instance\n",
      "mosek instance built\n",
      "-----------------------------------\n",
      "         MOSEK version 7\n",
      "-----------------------------------\n",
      "Problem\n",
      "  Name                   :                 \n",
      "  Objective sense        : max             \n",
      "  Type                   : CONIC (conic optimization problem)\n",
      "  Constraints            : 64              \n",
      "  Cones                  : 0               \n",
      "  Scalar variables       : 65              \n",
      "  Matrix variables       : 1               \n",
      "  Integer variables      : 0               \n",
      "\n",
      "Optimizer started.\n",
      "Conic interior-point optimizer started.\n",
      "Presolve started.\n",
      "Linear dependency checker started.\n",
      "Linear dependency checker terminated.\n",
      "Eliminator started.\n",
      "Freed constraints in eliminator : 0\n",
      "Eliminator terminated.\n",
      "Eliminator - tries                  : 1                 time                   : 0.00            \n",
      "Lin. dep.  - tries                  : 1                 time                   : 0.00            \n",
      "Lin. dep.  - number                 : 0               \n",
      "Presolve terminated. Time: 0.00    \n",
      "Optimizer  - threads                : 4               \n",
      "Optimizer  - solved problem         : the primal      \n",
      "Optimizer  - Constraints            : 64\n",
      "Optimizer  - Cones                  : 1\n",
      "Optimizer  - Scalar variables       : 34                conic                  : 34              \n",
      "Optimizer  - Semi-definite variables: 1                 scalarized             : 136             \n",
      "Factor     - setup time             : 0.00              dense det. time        : 0.00            \n",
      "Factor     - ML order time          : 0.00              GP order time          : 0.00            \n",
      "Factor     - nonzeros before factor : 2080              after factor           : 2080            \n",
      "Factor     - dense dim.             : 0                 flops                  : 1.40e+005       \n",
      "ITE PFEAS    DFEAS    GFEAS    PRSTATUS   POBJ              DOBJ              MU       TIME  \n",
      "0   2.0e+000 1.0e+000 1.0e+000 0.00e+000  0.000000000e+000  0.000000000e+000  1.0e+000 0.02  \n",
      "1   8.6e-001 4.3e-001 6.2e-001 2.02e+000  1.575019280e-001  0.000000000e+000  4.3e-001 0.03  \n",
      "2   8.7e-002 4.3e-002 5.5e-002 2.18e-001  5.243274520e-001  0.000000000e+000  4.3e-002 0.03  \n",
      "3   2.6e-004 1.3e-004 5.6e-006 -8.55e-001 5.239218065e+002  0.000000000e+000  1.3e-004 0.03  \n",
      "4   8.2e-012 7.0e-011 4.1e-012 -9.99e-001 2.849887484e-001  0.000000000e+000  4.1e-012 0.03  \n",
      "Interior-point optimizer terminated. Time: 0.03. \n",
      "\n",
      "Optimizer terminated. Time: 0.05    \n",
      "\n",
      "Interior-point solution summary\n",
      "  Problem status  : DUAL_INFEASIBLE\n",
      "  Solution status : DUAL_INFEASIBLE_CER\n",
      "  Primal.  obj: 2.8498874837e-001   nrm: 1e+000   Viol.  con: 8e-012   var: 0e+000   barvar: 0e+000 \n",
      "Solution status is dual_infeas_cer\n",
      "----------------------------------------------------\n",
      "Checking that the solution fulfills the constraints:\n",
      "----------------------------------------------------\n",
      "tr(σ_AB) = 1    :    TRUE\n",
      "(σ_AB)_0 = ρ   :    FALSE\n",
      "(σ_AB)_1 = ρ   :    FALSE\n",
      "σ_AB > 0        :    TRUE\n"
     ]
    }
   ],
   "source": [
    "ρ = 1/2*cvx.matrix([[1,0,0,1],\n",
    "                    [0,0,0,0],\n",
    "                    [0,0,0,0],\n",
    "                    [1,0,0,1]])\n",
    "extendibility(ρ, 2, 2, verbose=1, k=2, extend_system=0)"
   ]
  },
  {
   "cell_type": "markdown",
   "metadata": {},
   "source": [
    "# Identity Matrix $\\mathbb{1}$\n",
    "\\begin{equation}\n",
    "\\rho =\\frac{1}{4} \\left(\n",
    "\\begin{matrix}\n",
    "         1 & 0 & 0 & 0 \\\\\n",
    "         0 & 1 & 0 & 0 \\\\\n",
    "         0 & 0 & 1 & 0 \\\\\n",
    "         0 & 0 & 0 & 1\n",
    "\\end{matrix}\n",
    "\\right)\n",
    "\\end{equation}"
   ]
  }
 ],
 "metadata": {
  "kernelspec": {
   "display_name": "Python 3",
   "language": "python",
   "name": "python3"
  },
  "language_info": {
   "codemirror_mode": {
    "name": "ipython",
    "version": 3
   },
   "file_extension": ".py",
   "mimetype": "text/x-python",
   "name": "python",
   "nbconvert_exporter": "python",
   "pygments_lexer": "ipython3",
   "version": "3.4.5"
  }
 },
 "nbformat": 4,
 "nbformat_minor": 2
}
