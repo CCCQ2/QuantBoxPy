{
 "cells": [
  {
   "cell_type": "code",
   "execution_count": 1,
   "metadata": {
    "collapsed": false,
    "deletable": true,
    "editable": true
   },
   "outputs": [],
   "source": [
    "from sym_extendibility import extendibility\n",
    "from extendibility import extendibility as extend\n",
    "import cvxopt as cvx\n",
    "import numpy as np\n",
    "import picos"
   ]
  },
  {
   "cell_type": "markdown",
   "metadata": {
    "deletable": true,
    "editable": true
   },
   "source": [
    "# Maximally Entangled State\n",
    "\\begin{equation}\n",
    "\\rho =\\frac{1}{2} \\left(\n",
    "\\begin{matrix}\n",
    "         1 & 0 & 0 & 1 \\\\\n",
    "         0 & 0 & 0 & 0 \\\\\n",
    "         0 & 0 & 0 & 0 \\\\\n",
    "         1 & 0 & 0 & 1\n",
    "\\end{matrix}\n",
    "\\right)\n",
    "\\end{equation}"
   ]
  },
  {
   "cell_type": "code",
   "execution_count": 2,
   "metadata": {
    "collapsed": false,
    "deletable": true,
    "editable": true,
    "scrolled": true
   },
   "outputs": [
    {
     "name": "stdout",
     "output_type": "stream",
     "text": [
      "\n",
      "Checking for 2 extendibility...\n",
      "---------------------\n",
      "optimization problem  (SDP):\n",
      "21 variables, 17 affine constraints, 21 vars in 1 SD cones\n",
      "\n",
      "σ_AB \t: (6, 6), hermitian\n",
      "\n",
      "\tfind vars\n",
      "such that\n",
      "  σ_AB ≽ |0|\n",
      "  trace( σ_AB ) = 1.0\n",
      "  Tr_B^N-1(σ_AB) = ρ\n",
      "---------------------\n",
      "*** Making the problem real...  ***\n",
      "*** OK, solve the real problem and transform the solution as in the original problem...  ***\n",
      "*** Dualizing the problem...  ***\n",
      "build mosek instance\n",
      "mosek instance built\n",
      "-----------------------------------\n",
      "         MOSEK version 7\n",
      "-----------------------------------\n",
      "Problem\n",
      "  Name                   :                 \n",
      "  Objective sense        : max             \n",
      "  Type                   : CONIC (conic optimization problem)\n",
      "  Constraints            : 36              \n",
      "  Cones                  : 0               \n",
      "  Scalar variables       : 33              \n",
      "  Matrix variables       : 1               \n",
      "  Integer variables      : 0               \n",
      "\n",
      "Optimizer started.\n",
      "Conic interior-point optimizer started.\n",
      "Presolve started.\n",
      "Linear dependency checker started.\n",
      "Linear dependency checker terminated.\n",
      "Eliminator started.\n",
      "Freed constraints in eliminator : 0\n",
      "Eliminator terminated.\n",
      "Eliminator - tries                  : 1                 time                   : 0.00            \n",
      "Lin. dep.  - tries                  : 1                 time                   : 0.02            \n",
      "Lin. dep.  - number                 : 0               \n",
      "Presolve terminated. Time: 0.02    \n",
      "Optimizer  - threads                : 2               \n",
      "Optimizer  - solved problem         : the primal      \n",
      "Optimizer  - Constraints            : 36\n",
      "Optimizer  - Cones                  : 1\n",
      "Optimizer  - Scalar variables       : 18                conic                  : 18              \n",
      "Optimizer  - Semi-definite variables: 1                 scalarized             : 78              \n",
      "Factor     - setup time             : 0.00              dense det. time        : 0.00            \n",
      "Factor     - ML order time          : 0.00              GP order time          : 0.00            \n",
      "Factor     - nonzeros before factor : 666               after factor           : 666             \n",
      "Factor     - dense dim.             : 0                 flops                  : 3.27e+004       \n",
      "ITE PFEAS    DFEAS    GFEAS    PRSTATUS   POBJ              DOBJ              MU       TIME  \n",
      "0   2.0e+000 1.0e+000 1.0e+000 0.00e+000  0.000000000e+000  0.000000000e+000  1.0e+000 0.03  \n",
      "1   9.5e-001 4.8e-001 7.4e-001 2.16e+000  8.182703440e-002  0.000000000e+000  4.8e-001 0.05  \n",
      "2   1.4e-001 7.1e-002 1.1e-001 2.99e-001  3.315709081e-001  0.000000000e+000  7.1e-002 0.06  \n",
      "3   8.8e-004 4.4e-004 5.6e-005 -6.81e-001 6.208595930e+001  0.000000000e+000  4.4e-004 0.06  \n",
      "4   6.3e-010 3.2e-010 3.4e-014 -9.98e-001 8.717010863e+007  0.000000000e+000  3.2e-010 0.06  \n",
      "5   8.2e-015 3.7e-018 2.8e-017 -1.00e+000 2.405518835e-001  0.000000000e+000  2.3e-019 0.06  \n",
      "Interior-point optimizer terminated. Time: 0.06. \n",
      "\n",
      "Optimizer terminated. Time: 0.11    \n",
      "\n",
      "Interior-point solution summary\n",
      "  Problem status  : DUAL_INFEASIBLE\n",
      "  Solution status : DUAL_INFEASIBLE_CER\n",
      "  Primal.  obj: 2.4055188354e-001   nrm: 2e+000   Viol.  con: 8e-015   var: 0e+000   barvar: 0e+000 \n",
      "Solution status is dual_infeas_cer\n",
      "dual_infeas_cer\n",
      "----------------------------------------------------\n",
      "Checking that the solution fulfills the constraints:\n",
      "----------------------------------------------------\n",
      "tr(σ_AB) = 1          :    TRUE\n",
      "tr_B^N-1(σ_AB) = ρ   :    FALSE\n",
      "σ_AB > 0              :    TRUE\n"
     ]
    },
    {
     "data": {
      "text/plain": [
       "# variable σ_AB:(6 x 6),hermitian #"
      ]
     },
     "execution_count": 2,
     "metadata": {},
     "output_type": "execute_result"
    }
   ],
   "source": [
    "ρ = 1/2*cvx.matrix([[1,0,0,1],\n",
    "                    [0,0,0,0],\n",
    "                    [0,0,0,0],\n",
    "                    [1,0,0,1]])\n",
    "extendibility(ρ, 2, 2, verbose=1, k=2, extend_system=1)"
   ]
  },
  {
   "cell_type": "markdown",
   "metadata": {
    "deletable": true,
    "editable": true
   },
   "source": [
    "# Identity Matrix $\\mathbb{1}$\n",
    "\\begin{equation}\n",
    "\\rho =\\frac{1}{4} \\left(\n",
    "\\begin{matrix}\n",
    "         1 & 0 & 0 & 0 \\\\\n",
    "         0 & 1 & 0 & 0 \\\\\n",
    "         0 & 0 & 1 & 0 \\\\\n",
    "         0 & 0 & 0 & 1\n",
    "\\end{matrix}\n",
    "\\right)\n",
    "\\end{equation}"
   ]
  },
  {
   "cell_type": "code",
   "execution_count": 3,
   "metadata": {
    "collapsed": false,
    "deletable": true,
    "editable": true,
    "scrolled": false
   },
   "outputs": [
    {
     "name": "stdout",
     "output_type": "stream",
     "text": [
      "\n",
      "Checking for 3 extendibility...\n",
      "---------------------\n",
      "optimization problem  (SDP):\n",
      "36 variables, 17 affine constraints, 36 vars in 1 SD cones\n",
      "\n",
      "σ_AB \t: (8, 8), hermitian\n",
      "\n",
      "\tfind vars\n",
      "such that\n",
      "  σ_AB ≽ |0|\n",
      "  trace( σ_AB ) = 1.0\n",
      "  Tr_B^N-1(σ_AB) = ρ\n",
      "---------------------\n",
      "*** Making the problem real...  ***\n",
      "*** OK, solve the real problem and transform the solution as in the original problem...  ***\n",
      "*** Dualizing the problem...  ***\n",
      "build mosek instance\n",
      "mosek instance built\n",
      "-----------------------------------\n",
      "         MOSEK version 7\n",
      "-----------------------------------\n",
      "Problem\n",
      "  Name                   :                 \n",
      "  Objective sense        : max             \n",
      "  Type                   : CONIC (conic optimization problem)\n",
      "  Constraints            : 64              \n",
      "  Cones                  : 0               \n",
      "  Scalar variables       : 33              \n",
      "  Matrix variables       : 1               \n",
      "  Integer variables      : 0               \n",
      "\n",
      "Optimizer started.\n",
      "Conic interior-point optimizer started.\n",
      "Presolve started.\n",
      "Linear dependency checker started.\n",
      "Linear dependency checker terminated.\n",
      "Eliminator started.\n",
      "Freed constraints in eliminator : 0\n",
      "Eliminator terminated.\n",
      "Eliminator - tries                  : 1                 time                   : 0.00            \n",
      "Lin. dep.  - tries                  : 1                 time                   : 0.02            \n",
      "Lin. dep.  - number                 : 0               \n",
      "Presolve terminated. Time: 0.02    \n",
      "Optimizer  - threads                : 2               \n",
      "Optimizer  - solved problem         : the primal      \n",
      "Optimizer  - Constraints            : 64\n",
      "Optimizer  - Cones                  : 1\n",
      "Optimizer  - Scalar variables       : 18                conic                  : 18              \n",
      "Optimizer  - Semi-definite variables: 1                 scalarized             : 136             \n",
      "Factor     - setup time             : 0.00              dense det. time        : 0.00            \n",
      "Factor     - ML order time          : 0.00              GP order time          : 0.00            \n",
      "Factor     - nonzeros before factor : 2080              after factor           : 2080            \n",
      "Factor     - dense dim.             : 0                 flops                  : 1.39e+005       \n",
      "ITE PFEAS    DFEAS    GFEAS    PRSTATUS   POBJ              DOBJ              MU       TIME  \n",
      "0   2.0e+000 1.0e+000 1.0e+000 0.00e+000  0.000000000e+000  0.000000000e+000  1.0e+000 0.03  \n",
      "1   9.5e-001 4.8e-001 1.7e+000 3.41e+000  -8.854158586e-002 0.000000000e+000  4.8e-001 0.06  \n",
      "2   7.5e-002 3.8e-002 2.6e-001 2.50e+000  1.368983488e-002  0.000000000e+000  3.8e-002 0.08  \n",
      "3   8.1e-005 4.1e-005 8.7e-003 1.00e+000  1.416745871e-005  0.000000000e+000  4.1e-005 0.08  \n",
      "4   3.6e-009 1.8e-009 1.8e-009 1.00e+000  5.698632819e-010  0.000000000e+000  1.8e-009 0.08  \n",
      "Interior-point optimizer terminated. Time: 0.08. \n",
      "\n",
      "Optimizer terminated. Time: 0.14    \n",
      "\n",
      "Interior-point solution summary\n",
      "  Problem status  : PRIMAL_AND_DUAL_FEASIBLE\n",
      "  Solution status : OPTIMAL\n",
      "  Primal.  obj: 5.6986328191e-010   nrm: 5e-010   Viol.  con: 7e-010   var: 0e+000   barvar: 0e+000 \n",
      "  Dual.    obj: 0.0000000000e+000   nrm: 1e-001   Viol.  con: 0e+000   var: 3e-011   barvar: 3e-010 \n",
      "Solution status is optimal\n",
      "optimal\n",
      "----------------------------------------------------\n",
      "Checking that the solution fulfills the constraints:\n",
      "----------------------------------------------------\n",
      "tr(σ_AB) = 1          :    TRUE\n",
      "tr_B^N-1(σ_AB) = ρ   :    TRUE\n",
      "σ_AB > 0              :    TRUE\n"
     ]
    },
    {
     "data": {
      "text/plain": [
       "# variable σ_AB:(8 x 8),hermitian #"
      ]
     },
     "execution_count": 3,
     "metadata": {},
     "output_type": "execute_result"
    }
   ],
   "source": [
    "d=4\n",
    "ρ = (1/d**2)*cvx.matrix(np.eye(d**2))\n",
    "\n",
    "extendibility(ρ, d, d, verbose=1, k=3, extend_system=1)"
   ]
  },
  {
   "cell_type": "markdown",
   "metadata": {
    "deletable": true,
    "editable": true
   },
   "source": [
    "# Werner state \n",
    "\n",
    "\\begin{equation}\n",
    "\\rho = p \\cdot \\sigma_{sym} + (1-p) \\cdot  \\sigma_{asym}\n",
    "\\end{equation}\n",
    "Where\n",
    "\n",
    "\\begin{equation}\n",
    "\\sigma_{sym} = \\frac{1}{d^2+d} \\left(\\mathbb{1} + \\mathbb{F} \\right)\n",
    "\\end{equation}\n",
    "\\begin{equation}\n",
    "\\sigma_{asym} = \\frac{1}{d^2+d} \\left(\\mathbb{1} - \\mathbb{F} \\right)\n",
    "\\end{equation}\n",
    "The Flip operator $\\mathbb{F}$ is defined as:\n",
    "\\begin{equation}\n",
    "\\mathbb{F} = (\\theta \\otimes \\text{id}) (|\\Omega><\\Omega|)\n",
    "\\end{equation}\n",
    "Where $|\\Omega>$ is the maximally entangled state, and $\\theta$ is the transpose"
   ]
  },
  {
   "cell_type": "code",
   "execution_count": 4,
   "metadata": {
    "collapsed": false,
    "deletable": true,
    "editable": true,
    "scrolled": false
   },
   "outputs": [
    {
     "name": "stdout",
     "output_type": "stream",
     "text": [
      "\n",
      "Checking for 2 extendibility...\n",
      "---------------------\n",
      "optimization problem  (SDP):\n",
      "820 variables, 257 affine constraints, 820 vars in 1 SD cones\n",
      "\n",
      "σ_AB \t: (40, 40), hermitian\n",
      "\n",
      "\tfind vars\n",
      "such that\n",
      "  σ_AB ≽ |0|\n",
      "  trace( σ_AB ) = 1.0\n",
      "  Tr_B^N-1(σ_AB) = ρ\n",
      "---------------------\n",
      "*** Making the problem real...  ***\n",
      "*** OK, solve the real problem and transform the solution as in the original problem...  ***\n",
      "*** Dualizing the problem...  ***\n",
      "build mosek instance\n",
      "mosek instance built\n",
      "-----------------------------------\n",
      "         MOSEK version 7\n",
      "-----------------------------------\n",
      "Problem\n",
      "  Name                   :                 \n",
      "  Objective sense        : max             \n",
      "  Type                   : CONIC (conic optimization problem)\n",
      "  Constraints            : 1600            \n",
      "  Cones                  : 0               \n",
      "  Scalar variables       : 513             \n",
      "  Matrix variables       : 1               \n",
      "  Integer variables      : 0               \n",
      "\n",
      "Optimizer started.\n",
      "Conic interior-point optimizer started.\n",
      "Presolve started.\n",
      "Linear dependency checker started.\n",
      "Linear dependency checker terminated.\n",
      "Eliminator started.\n",
      "Freed constraints in eliminator : 0\n",
      "Eliminator terminated.\n",
      "Eliminator - tries                  : 1                 time                   : 0.00            \n",
      "Lin. dep.  - tries                  : 1                 time                   : 0.02            \n",
      "Lin. dep.  - number                 : 0               \n",
      "Presolve terminated. Time: 0.02    \n",
      "Optimizer  - threads                : 2               \n",
      "Optimizer  - solved problem         : the primal      \n",
      "Optimizer  - Constraints            : 1600\n",
      "Optimizer  - Cones                  : 1\n",
      "Optimizer  - Scalar variables       : 258               conic                  : 258             \n",
      "Optimizer  - Semi-definite variables: 1                 scalarized             : 3240            \n",
      "Factor     - setup time             : 0.47              dense det. time        : 0.00            \n",
      "Factor     - ML order time          : 0.34              GP order time          : 0.00            \n",
      "Factor     - nonzeros before factor : 1.28e+006         after factor           : 1.28e+006       \n",
      "Factor     - dense dim.             : 2                 flops                  : 1.39e+009       \n",
      "ITE PFEAS    DFEAS    GFEAS    PRSTATUS   POBJ              DOBJ              MU       TIME  \n",
      "0   2.0e+000 1.0e+000 1.0e+000 0.00e+000  0.000000000e+000  0.000000000e+000  1.0e+000 0.52  \n",
      "1   8.4e-001 4.2e-001 1.6e+000 4.34e+000  -7.959522246e-004 0.000000000e+000  4.2e-001 0.69  \n",
      "2   7.4e-002 3.7e-002 1.4e-001 8.78e-001  5.346852182e-002  0.000000000e+000  3.7e-002 0.84  \n",
      "3   1.5e-004 7.6e-005 3.6e-006 -9.89e-001 4.384531797e+002  0.000000000e+000  7.6e-005 0.97  \n",
      "4   5.1e-014 2.0e-015 4.2e-016 -9.99e-001 1.707050270e-001  0.000000000e+000  3.2e-017 1.14  \n",
      "Interior-point optimizer terminated. Time: 1.14. \n",
      "\n",
      "Optimizer terminated. Time: 1.20    \n",
      "\n",
      "Interior-point solution summary\n",
      "  Problem status  : DUAL_INFEASIBLE\n",
      "  Solution status : DUAL_INFEASIBLE_CER\n",
      "  Primal.  obj: 1.7070502705e-001   nrm: 3e+000   Viol.  con: 5e-014   var: 0e+000   barvar: 0e+000 \n",
      "Solution status is dual_infeas_cer\n",
      "dual_infeas_cer\n",
      "----------------------------------------------------\n",
      "Checking that the solution fulfills the constraints:\n",
      "----------------------------------------------------\n",
      "tr(σ_AB) = 1          :    TRUE\n",
      "tr_B^N-1(σ_AB) = ρ   :    FALSE\n",
      "σ_AB > 0              :    TRUE\n"
     ]
    },
    {
     "data": {
      "text/plain": [
       "# variable σ_AB:(40 x 40),hermitian #"
      ]
     },
     "execution_count": 4,
     "metadata": {},
     "output_type": "execute_result"
    }
   ],
   "source": [
    "p = 0\n",
    "d = 4\n",
    "Ω = np.eye(d).flatten().reshape(d**2,1)\n",
    "ρ_Ω=picos.new_param('ρ_Ω',Ω.dot(Ω.T))\n",
    "𝔽 = picos.partial_transpose(ρ_Ω, (d,d),0)\n",
    "𝔽 = np.asarray(𝔽.value)\n",
    "\n",
    "id = np.eye(d*d)\n",
    "σ_sym = 1/(d**2+d)*(id + 𝔽)\n",
    "σ_asym = 1/(d**2-d)*(id - 𝔽)\n",
    "\n",
    "ρ = p*σ_sym + (1-p)*σ_asym\n",
    "extendibility(ρ, d, d, verbose=1, k=d-2, extend_system=1)"
   ]
  },
  {
   "cell_type": "code",
   "execution_count": 5,
   "metadata": {
    "collapsed": false,
    "deletable": true,
    "editable": true,
    "scrolled": false
   },
   "outputs": [
    {
     "name": "stdout",
     "output_type": "stream",
     "text": [
      "\n",
      "Checking for 3 extendibility...\n",
      "---------------------\n",
      "optimization problem  (SDP):\n",
      "3240 variables, 257 affine constraints, 3240 vars in 1 SD cones\n",
      "\n",
      "σ_AB \t: (80, 80), hermitian\n",
      "\n",
      "\tfind vars\n",
      "such that\n",
      "  σ_AB ≽ |0|\n",
      "  trace( σ_AB ) = 1.0\n",
      "  Tr_B^N-1(σ_AB) = ρ\n",
      "---------------------\n",
      "*** Making the problem real...  ***\n",
      "*** OK, solve the real problem and transform the solution as in the original problem...  ***\n",
      "*** Dualizing the problem...  ***\n",
      "build mosek instance\n",
      "mosek instance built\n",
      "-----------------------------------\n",
      "         MOSEK version 7\n",
      "-----------------------------------\n",
      "Problem\n",
      "  Name                   :                 \n",
      "  Objective sense        : max             \n",
      "  Type                   : CONIC (conic optimization problem)\n",
      "  Constraints            : 6400            \n",
      "  Cones                  : 0               \n",
      "  Scalar variables       : 513             \n",
      "  Matrix variables       : 1               \n",
      "  Integer variables      : 0               \n",
      "\n",
      "Optimizer started.\n",
      "Conic interior-point optimizer started.\n",
      "Presolve started.\n",
      "Linear dependency checker started.\n",
      "Linear dependency checker terminated.\n",
      "Eliminator - tries                  : 0                 time                   : 0.00            \n",
      "Lin. dep.  - tries                  : 1                 time                   : 0.00            \n",
      "Lin. dep.  - number                 : 0               \n",
      "Presolve terminated. Time: 0.02    \n",
      "Optimizer  - threads                : 2               \n",
      "Optimizer  - solved problem         : the primal      \n",
      "Optimizer  - Constraints            : 6400\n",
      "Optimizer  - Cones                  : 1\n",
      "Optimizer  - Scalar variables       : 258               conic                  : 258             \n",
      "Optimizer  - Semi-definite variables: 1                 scalarized             : 12880           \n",
      "Factor     - setup time             : 8.98              dense det. time        : 0.00            \n",
      "Factor     - ML order time          : 5.66              GP order time          : 0.00            \n",
      "Factor     - nonzeros before factor : 2.05e+007         after factor           : 2.05e+007       \n",
      "Factor     - dense dim.             : 2                 flops                  : 8.78e+010       \n",
      "ITE PFEAS    DFEAS    GFEAS    PRSTATUS   POBJ              DOBJ              MU       TIME  \n",
      "0   2.0e+000 1.0e+000 1.0e+000 0.00e+000  0.000000000e+000  0.000000000e+000  1.0e+000 9.03  \n",
      "1   9.6e-001 4.8e-001 2.3e+000 4.57e+000  -1.794825558e-002 0.000000000e+000  4.8e-001 13.39 \n",
      "2   1.9e-001 9.7e-002 3.5e-001 1.14e+000  4.642409583e-002  0.000000000e+000  9.7e-002 17.17 \n",
      "3   5.7e-004 2.9e-004 3.5e-005 -7.08e-001 6.801710954e+001  0.000000000e+000  2.9e-004 21.06 \n",
      "4   4.2e-012 7.5e-013 1.1e-014 -9.98e-001 2.207283269e-001  0.000000000e+000  1.1e-014 24.67 \n",
      "Interior-point optimizer terminated. Time: 24.70. \n",
      "\n",
      "Optimizer terminated. Time: 24.75   \n",
      "\n",
      "Interior-point solution summary\n",
      "  Problem status  : DUAL_INFEASIBLE\n",
      "  Solution status : DUAL_INFEASIBLE_CER\n",
      "  Primal.  obj: 2.2072832692e-001   nrm: 3e+000   Viol.  con: 4e-012   var: 0e+000   barvar: 0e+000 \n",
      "Solution status is dual_infeas_cer\n",
      "dual_infeas_cer\n",
      "----------------------------------------------------\n",
      "Checking that the solution fulfills the constraints:\n",
      "----------------------------------------------------\n",
      "tr(σ_AB) = 1          :    TRUE\n",
      "tr_B^N-1(σ_AB) = ρ   :    FALSE\n",
      "σ_AB > 0              :    TRUE\n"
     ]
    },
    {
     "data": {
      "text/plain": [
       "# variable σ_AB:(80 x 80),hermitian #"
      ]
     },
     "execution_count": 5,
     "metadata": {},
     "output_type": "execute_result"
    }
   ],
   "source": [
    "extendibility(ρ, d, d, verbose=1, k=d-1, extend_system=1)"
   ]
  },
  {
   "cell_type": "markdown",
   "metadata": {
    "deletable": true,
    "editable": true
   },
   "source": [
    "The Werner state is suppost to be d-2 extendible for p=0, but not d-1 extendible."
   ]
  },
  {
   "cell_type": "markdown",
   "metadata": {
    "deletable": true,
    "editable": true
   },
   "source": [
    "# Isotropic state\n",
    "\\begin{equation}\n",
    "\\displaystyle\\rho_\\alpha := \\frac{1-\\alpha}{d^2}\\mathbb{1} + \\alpha|\\Omega\\rangle\\langle\\Omega| \\in M_d \\otimes M_d,\n",
    "\\end{equation}\n",
    "This state is separable for $\\alpha \\leq 1/(d+1)$\n",
    "\n",
    "For $\\alpha=0.4$ we get that it is k=2 but not k=3 extendible"
   ]
  },
  {
   "cell_type": "code",
   "execution_count": 6,
   "metadata": {
    "collapsed": true,
    "deletable": true,
    "editable": true
   },
   "outputs": [],
   "source": [
    "def isotropic_state(alpha, d):\n",
    "    Ω = np.eye(d).flatten().reshape(d**2,1)\n",
    "    return (1-alpha)/d**2 *(np.eye(d*d)) + alpha*(np.dot(Ω,Ω.T)/d)"
   ]
  },
  {
   "cell_type": "code",
   "execution_count": 7,
   "metadata": {
    "collapsed": false,
    "deletable": true,
    "editable": true
   },
   "outputs": [
    {
     "name": "stdout",
     "output_type": "stream",
     "text": [
      "\n",
      "Checking for 10 extendibility...\n",
      "---------------------\n",
      "optimization problem  (SDP):\n",
      "253 variables, 17 affine constraints, 253 vars in 1 SD cones\n",
      "\n",
      "σ_AB \t: (22, 22), hermitian\n",
      "\n",
      "\tfind vars\n",
      "such that\n",
      "  σ_AB ≽ |0|\n",
      "  trace( σ_AB ) = 1.0\n",
      "  Tr_B^N-1(σ_AB) = ρ\n",
      "---------------------\n",
      "*** Making the problem real...  ***\n",
      "*** OK, solve the real problem and transform the solution as in the original problem...  ***\n",
      "*** Dualizing the problem...  ***\n",
      "build mosek instance\n",
      "mosek instance built\n",
      "-----------------------------------\n",
      "         MOSEK version 7\n",
      "-----------------------------------\n",
      "Problem\n",
      "  Name                   :                 \n",
      "  Objective sense        : max             \n",
      "  Type                   : CONIC (conic optimization problem)\n",
      "  Constraints            : 484             \n",
      "  Cones                  : 0               \n",
      "  Scalar variables       : 33              \n",
      "  Matrix variables       : 1               \n",
      "  Integer variables      : 0               \n",
      "\n",
      "Optimizer started.\n",
      "Conic interior-point optimizer started.\n",
      "Presolve started.\n",
      "Linear dependency checker started.\n",
      "Linear dependency checker terminated.\n",
      "Eliminator - tries                  : 0                 time                   : 0.00            \n",
      "Lin. dep.  - tries                  : 1                 time                   : 0.00            \n",
      "Lin. dep.  - number                 : 0               \n",
      "Presolve terminated. Time: 0.00    \n",
      "Optimizer  - threads                : 2               \n",
      "Optimizer  - solved problem         : the primal      \n",
      "Optimizer  - Constraints            : 484\n",
      "Optimizer  - Cones                  : 1\n",
      "Optimizer  - Scalar variables       : 18                conic                  : 18              \n",
      "Optimizer  - Semi-definite variables: 1                 scalarized             : 990             \n",
      "Factor     - setup time             : 0.01              dense det. time        : 0.00            \n",
      "Factor     - ML order time          : 0.00              GP order time          : 0.00            \n",
      "Factor     - nonzeros before factor : 1.17e+005         after factor           : 1.17e+005       \n",
      "Factor     - dense dim.             : 0                 flops                  : 4.05e+007       \n",
      "ITE PFEAS    DFEAS    GFEAS    PRSTATUS   POBJ              DOBJ              MU       TIME  \n",
      "0   2.0e+000 1.0e+000 1.0e+000 0.00e+000  0.000000000e+000  0.000000000e+000  1.0e+000 0.05  \n",
      "1   3.0e-001 1.5e-001 9.4e-001 4.07e+000  2.899456002e-003  0.000000000e+000  1.5e-001 0.09  \n",
      "2   9.6e-004 4.8e-004 5.0e-002 1.20e+000  2.391182948e-005  0.000000000e+000  4.8e-004 0.11  \n",
      "3   9.8e-007 4.9e-007 1.5e-003 9.99e-001  3.506689761e-008  0.000000000e+000  4.9e-007 0.14  \n",
      "4   1.1e-009 5.3e-010 4.6e-005 9.96e-001  5.723860734e-011  0.000000000e+000  5.2e-010 0.16  \n",
      "Interior-point optimizer terminated. Time: 0.16. \n",
      "\n",
      "Optimizer terminated. Time: 0.20    \n",
      "\n",
      "Interior-point solution summary\n",
      "  Problem status  : PRIMAL_AND_DUAL_FEASIBLE\n",
      "  Solution status : OPTIMAL\n",
      "  Primal.  obj: 5.7238602746e-011   nrm: 4e-001   Viol.  con: 2e-010   var: 0e+000   barvar: 0e+000 \n",
      "  Dual.    obj: 0.0000000000e+000   nrm: 9e-002   Viol.  con: 0e+000   var: 9e-011   barvar: 7e-011 \n",
      "Solution status is optimal\n",
      "optimal\n",
      "----------------------------------------------------\n",
      "Checking that the solution fulfills the constraints:\n",
      "----------------------------------------------------\n",
      "tr(σ_AB) = 1          :    TRUE\n",
      "tr_B^N-1(σ_AB) = ρ   :    TRUE\n",
      "σ_AB > 0              :    TRUE\n"
     ]
    },
    {
     "data": {
      "text/plain": [
       "# variable σ_AB:(22 x 22),hermitian #"
      ]
     },
     "execution_count": 7,
     "metadata": {},
     "output_type": "execute_result"
    }
   ],
   "source": [
    "d=2\n",
    "alpha=0.4\n",
    "\n",
    "extendibility(isotropic_state(alpha,d) , d, d, verbose=1, k=10, extend_system=1)"
   ]
  },
  {
   "cell_type": "code",
   "execution_count": 8,
   "metadata": {
    "collapsed": false,
    "deletable": true,
    "editable": true,
    "scrolled": true
   },
   "outputs": [
    {
     "name": "stdout",
     "output_type": "stream",
     "text": [
      "\n",
      "Checking for 11 extendibility...\n",
      "---------------------\n",
      "optimization problem  (SDP):\n",
      "300 variables, 17 affine constraints, 300 vars in 1 SD cones\n",
      "\n",
      "σ_AB \t: (24, 24), hermitian\n",
      "\n",
      "\tfind vars\n",
      "such that\n",
      "  σ_AB ≽ |0|\n",
      "  trace( σ_AB ) = 1.0\n",
      "  Tr_B^N-1(σ_AB) = ρ\n",
      "---------------------\n",
      "*** Making the problem real...  ***\n",
      "*** OK, solve the real problem and transform the solution as in the original problem...  ***\n",
      "*** Dualizing the problem...  ***\n",
      "build mosek instance\n",
      "mosek instance built\n",
      "-----------------------------------\n",
      "         MOSEK version 7\n",
      "-----------------------------------\n",
      "Problem\n",
      "  Name                   :                 \n",
      "  Objective sense        : max             \n",
      "  Type                   : CONIC (conic optimization problem)\n",
      "  Constraints            : 576             \n",
      "  Cones                  : 0               \n",
      "  Scalar variables       : 33              \n",
      "  Matrix variables       : 1               \n",
      "  Integer variables      : 0               \n",
      "\n",
      "Optimizer started.\n",
      "Conic interior-point optimizer started.\n",
      "Presolve started.\n",
      "Linear dependency checker started.\n",
      "Linear dependency checker terminated.\n",
      "Eliminator - tries                  : 0                 time                   : 0.00            \n",
      "Lin. dep.  - tries                  : 1                 time                   : 0.00            \n",
      "Lin. dep.  - number                 : 0               \n",
      "Presolve terminated. Time: 0.00    \n",
      "Optimizer  - threads                : 2               \n",
      "Optimizer  - solved problem         : the primal      \n",
      "Optimizer  - Constraints            : 576\n",
      "Optimizer  - Cones                  : 1\n",
      "Optimizer  - Scalar variables       : 18                conic                  : 18              \n",
      "Optimizer  - Semi-definite variables: 1                 scalarized             : 1176            \n",
      "Factor     - setup time             : 0.05              dense det. time        : 0.00            \n",
      "Factor     - ML order time          : 0.03              GP order time          : 0.00            \n",
      "Factor     - nonzeros before factor : 1.66e+005         after factor           : 1.66e+005       \n",
      "Factor     - dense dim.             : 0                 flops                  : 6.75e+007       \n",
      "ITE PFEAS    DFEAS    GFEAS    PRSTATUS   POBJ              DOBJ              MU       TIME  \n",
      "0   2.0e+000 1.0e+000 1.0e+000 0.00e+000  0.000000000e+000  0.000000000e+000  1.0e+000 0.08  \n",
      "1   3.0e-001 1.5e-001 1.0e+000 4.13e+000  5.810227790e-004  0.000000000e+000  1.5e-001 0.14  \n",
      "2   1.5e-002 7.4e-003 2.0e-001 1.17e+000  4.080748532e-004  0.000000000e+000  7.4e-003 0.16  \n",
      "3   5.3e-004 2.6e-004 1.9e-003 -1.63e-001 1.777258812e-002  0.000000000e+000  2.6e-004 0.19  \n",
      "4   1.5e-008 7.7e-009 1.6e-010 -9.90e-001 2.474379064e+003  0.000000000e+000  7.7e-009 0.23  \n",
      "5   1.6e-012 1.2e-021 6.1e-025 -1.00e+000 1.903621702e+016  0.000000000e+000  9.7e-022 0.28  \n",
      "6   4.4e-016 1.0e-029 6.9e-017 -1.00e+000 7.271359212e-003  0.000000000e+000  4.9e-032 0.34  \n",
      "Interior-point optimizer terminated. Time: 0.34. \n",
      "\n",
      "Optimizer terminated. Time: 0.38    \n",
      "\n",
      "Interior-point solution summary\n",
      "  Problem status  : DUAL_INFEASIBLE\n",
      "  Solution status : DUAL_INFEASIBLE_CER\n",
      "  Primal.  obj: 7.2713592123e-003   nrm: 6e+000   Viol.  con: 4e-016   var: 0e+000   barvar: 0e+000 \n",
      "Solution status is dual_infeas_cer\n",
      "dual_infeas_cer\n",
      "----------------------------------------------------\n",
      "Checking that the solution fulfills the constraints:\n",
      "----------------------------------------------------\n",
      "tr(σ_AB) = 1          :    TRUE\n",
      "tr_B^N-1(σ_AB) = ρ   :    FALSE\n",
      "σ_AB > 0              :    TRUE\n"
     ]
    },
    {
     "data": {
      "text/plain": [
       "# variable σ_AB:(24 x 24),hermitian #"
      ]
     },
     "execution_count": 8,
     "metadata": {},
     "output_type": "execute_result"
    }
   ],
   "source": [
    "extendibility(isotropic_state(alpha,d) , d, d, verbose=1, k=11, extend_system=1)"
   ]
  },
  {
   "cell_type": "markdown",
   "metadata": {},
   "source": [
    "# Going to d=4 gives RAM issues"
   ]
  },
  {
   "cell_type": "code",
   "execution_count": null,
   "metadata": {
    "collapsed": true
   },
   "outputs": [],
   "source": [
    "d=4\n",
    "extendibility(isotropic_state(alpha,d) , d, d, verbose=1, k=4, extend_system=1)"
   ]
  },
  {
   "cell_type": "code",
   "execution_count": null,
   "metadata": {
    "collapsed": true
   },
   "outputs": [],
   "source": [
    "extendibility(isotropic_state(alpha,d) , d, d, verbose=1, k=5, extend_system=1)"
   ]
  },
  {
   "cell_type": "markdown",
   "metadata": {
    "deletable": true,
    "editable": true
   },
   "source": [
    "# Matlab states\n",
    "for $\\theta =\\pi /6$ , $b=0.04$ the state is k=2 but not k=3 extendible"
   ]
  },
  {
   "cell_type": "code",
   "execution_count": null,
   "metadata": {
    "collapsed": false,
    "deletable": true,
    "editable": true,
    "scrolled": false
   },
   "outputs": [],
   "source": [
    "theta = np.pi/6\n",
    "b = 0.04\n",
    "cth = np.cos(theta)\n",
    "ph = np.exp(1j*theta)\n",
    "A = np.matrix([[2*cth ,0  ,0],\n",
    "                [0     ,1/b,0],\n",
    "                [0     ,0  ,b]])\n",
    "\n",
    "B = np.matrix([[0   ,-ph , 0 ], \n",
    "                [-cth,  0 , 0],\n",
    "                [0   ,  0 , 0]])\n",
    "\n",
    "C = np.matrix([[0   , 0 ,-np.conj(ph)], \n",
    "                [0   , 0 ,     0      ], \n",
    "                [-cth, 0 ,     0     ]])\n",
    "\n",
    "D = np.matrix([[0  ,  0  , 0  ], \n",
    "                [0  ,  0  ,-ph ],\n",
    "                 [0  , -cth, 0  ]])\n",
    "\n",
    "E = np.matrix([[b  ,  0  , 0  ],\n",
    "                [0  ,2*cth, 0  ],\n",
    "                [0  ,  0  , 1/b]])\n",
    "\n",
    "F = np.matrix([[1/b,  0  ,0],\n",
    "                [0  ,  b  ,0],\n",
    "                [0  ,  0  ,2*cth]])\n",
    "rho = np.array([[A  , B   ,C],\n",
    "                 [B.H, E   ,D],\n",
    "                 [C.H, D.H ,F]])\n",
    "rho = rho.transpose(0,2,1,3).reshape(9,9) #Transform into 2d matrix\n",
    "rho = rho/np.trace(rho) #Normalize\n",
    "extendibility(rho, 3, 3, verbose=1, k=2, extend_system=1)"
   ]
  },
  {
   "cell_type": "code",
   "execution_count": null,
   "metadata": {
    "collapsed": false,
    "deletable": true,
    "editable": true,
    "scrolled": true
   },
   "outputs": [],
   "source": [
    "extendibility(rho, 3, 3, verbose=1, k=3, extend_system=1)"
   ]
  }
 ],
 "metadata": {
  "kernelspec": {
   "display_name": "Python 3",
   "language": "python",
   "name": "python3"
  },
  "language_info": {
   "codemirror_mode": {
    "name": "ipython",
    "version": 3
   },
   "file_extension": ".py",
   "mimetype": "text/x-python",
   "name": "python",
   "nbconvert_exporter": "python",
   "pygments_lexer": "ipython3",
   "version": "3.4.5"
  }
 },
 "nbformat": 4,
 "nbformat_minor": 2
}
